{
  "cells": [
    {
      "cell_type": "markdown",
      "metadata": {
        "id": "I_i1q1TWG9zH"
      },
      "source": [
        "# Deep Crossentropy method\n",
        "\n",
        "In this section we'll extend your CEM implementation with neural networks! You will train a multi-layer neural network to solve simple continuous state space games. __Please make sure you're done with tabular crossentropy method from the previous notebook.__\n",
        "\n",
        "![img](https://watanimg.elwatannews.com/old_news_images/large/249765_Large_20140709045740_11.jpg)\n",
        "\n"
      ]
    },
    {
      "cell_type": "code",
      "execution_count": null,
      "metadata": {
        "id": "t4CJ1sRyG9zJ"
      },
      "outputs": [],
      "source": [
        "import sys, os\n",
        "if 'google.colab' in sys.modules and not os.path.exists('.setup_complete'):\n",
        "    !wget -q https://raw.githubusercontent.com/yandexdataschool/Practical_RL/master/setup_colab.sh -O- | bash\n",
        "    !touch .setup_complete\n",
        "\n",
        "# This code creates a virtual display to draw game images on.\n",
        "# It will have no effect if your machine has a monitor.\n",
        "if type(os.environ.get(\"DISPLAY\")) is not str or len(os.environ.get(\"DISPLAY\")) == 0:\n",
        "    !bash ../xvfb start\n",
        "    os.environ['DISPLAY'] = ':1'"
      ]
    },
    {
      "cell_type": "code",
      "execution_count": null,
      "metadata": {
        "id": "C2xd5vPwPVCb"
      },
      "outputs": [],
      "source": [
        "# Install gymnasium if you didn't\n",
        "!pip install gymnasium[toy_text,classic_control]"
      ]
    },
    {
      "cell_type": "code",
      "execution_count": 3,
      "metadata": {
        "id": "_2zbc7ahG9zK",
        "outputId": "07329d15-607c-47ad-afc6-16b4064fd463",
        "colab": {
          "base_uri": "https://localhost:8080/",
          "height": 485
        }
      },
      "outputs": [
        {
          "output_type": "stream",
          "name": "stderr",
          "text": [
            "/usr/local/lib/python3.10/dist-packages/gymnasium/envs/registration.py:513: DeprecationWarning: \u001b[33mWARN: The environment CartPole-v0 is out of date. You should consider upgrading to version `v1`.\u001b[0m\n",
            "  logger.deprecation(\n"
          ]
        },
        {
          "output_type": "stream",
          "name": "stdout",
          "text": [
            "state vector dim = 4\n",
            "n_actions = 2\n"
          ]
        },
        {
          "output_type": "display_data",
          "data": {
            "text/plain": [
              "<Figure size 640x480 with 1 Axes>"
            ],
            "image/png": "[encoded data removed]"
          },
          "metadata": {}
        }
      ],
      "source": [
        "import gymnasium as gym\n",
        "import numpy as np\n",
        "import matplotlib.pyplot as plt\n",
        "%matplotlib inline\n",
        "\n",
        "# if you see \"<classname> has no attribute .env\", remove .env or update gym\n",
        "env = gym.make(\"CartPole-v0\", render_mode=\"rgb_array\").env\n",
        "\n",
        "env.reset()\n",
        "n_actions = env.action_space.n\n",
        "state_dim = env.observation_space.shape[0]\n",
        "\n",
        "plt.imshow(env.render())\n",
        "print(\"state vector dim =\", state_dim)\n",
        "print(\"n_actions =\", n_actions)\n",
        "\n",
        "env.close()"
      ]
    },
    {
      "cell_type": "markdown",
      "metadata": {
        "id": "Z72_alhdG9zK"
      },
      "source": [
        "# Neural Network Policy\n",
        "\n",
        "For this assignment we'll utilize the simplified neural network implementation from __[Scikit-learn](https://scikit-learn.org/stable/modules/generated/sklearn.neural_network.MLPClassifier.html)__. Here's what you'll need:\n",
        "\n",
        "* `agent.partial_fit(states, actions)` - make a single training pass over the data. Maximize the probability of :actions: from :states:\n",
        "* `agent.predict_proba(states)` - predict probabilities of all actions, a matrix of shape __[len(states), n_actions]__\n"
      ]
    },
    {
      "cell_type": "code",
      "execution_count": 4,
      "metadata": {
        "id": "wLItY4unG9zL",
        "outputId": "f6b8f7ab-ffc7-4f77-8088-31db0189bfe1",
        "colab": {
          "base_uri": "https://localhost:8080/",
          "height": 74
        }
      },
      "outputs": [
        {
          "output_type": "execute_result",
          "data": {
            "text/plain": [
              "MLPClassifier(activation='tanh', hidden_layer_sizes=(20, 20))"
            ],
            "text/html": [
              "<style>#sk-container-id-1 {color: black;}#sk-container-id-1 pre{padding: 0;}#sk-container-id-1 div.sk-toggleable {background-color: white;}#sk-container-id-1 label.sk-toggleable__label {cursor: pointer;display: block;width: 100%;margin-bottom: 0;padding: 0.3em;box-sizing: border-box;text-align: center;}#sk-container-id-1 label.sk-toggleable__label-arrow:before {content: \"▸\";float: left;margin-right: 0.25em;color: #696969;}#sk-container-id-1 label.sk-toggleable__label-arrow:hover:before {color: black;}#sk-container-id-1 div.sk-estimator:hover label.sk-toggleable__label-arrow:before {color: black;}#sk-container-id-1 div.sk-toggleable__content {max-height: 0;max-width: 0;overflow: hidden;text-align: left;background-color: #f0f8ff;}#sk-container-id-1 div.sk-toggleable__content pre {margin: 0.2em;color: black;border-radius: 0.25em;background-color: #f0f8ff;}#sk-container-id-1 input.sk-toggleable__control:checked~div.sk-toggleable__content {max-height: 200px;max-width: 100%;overflow: auto;}#sk-container-id-1 input.sk-toggleable__control:checked~label.sk-toggleable__label-arrow:before {content: \"▾\";}#sk-container-id-1 div.sk-estimator input.sk-toggleable__control:checked~label.sk-toggleable__label {background-color: #d4ebff;}#sk-container-id-1 div.sk-label input.sk-toggleable__control:checked~label.sk-toggleable__label {background-color: #d4ebff;}#sk-container-id-1 input.sk-hidden--visually {border: 0;clip: rect(1px 1px 1px 1px);clip: rect(1px, 1px, 1px, 1px);height: 1px;margin: -1px;overflow: hidden;padding: 0;position: absolute;width: 1px;}#sk-container-id-1 div.sk-estimator {font-family: monospace;background-color: #f0f8ff;border: 1px dotted black;border-radius: 0.25em;box-sizing: border-box;margin-bottom: 0.5em;}#sk-container-id-1 div.sk-estimator:hover {background-color: #d4ebff;}#sk-container-id-1 div.sk-parallel-item::after {content: \"\";width: 100%;border-bottom: 1px solid gray;flex-grow: 1;}#sk-container-id-1 div.sk-label:hover label.sk-toggleable__label {background-color: #d4ebff;}#sk-container-id-1 div.sk-serial::before {content: \"\";position: absolute;border-left: 1px solid gray;box-sizing: border-box;top: 0;bottom: 0;left: 50%;z-index: 0;}#sk-container-id-1 div.sk-serial {display: flex;flex-direction: column;align-items: center;background-color: white;padding-right: 0.2em;padding-left: 0.2em;position: relative;}#sk-container-id-1 div.sk-item {position: relative;z-index: 1;}#sk-container-id-1 div.sk-parallel {display: flex;align-items: stretch;justify-content: center;background-color: white;position: relative;}#sk-container-id-1 div.sk-item::before, #sk-container-id-1 div.sk-parallel-item::before {content: \"\";position: absolute;border-left: 1px solid gray;box-sizing: border-box;top: 0;bottom: 0;left: 50%;z-index: -1;}#sk-container-id-1 div.sk-parallel-item {display: flex;flex-direction: column;z-index: 1;position: relative;background-color: white;}#sk-container-id-1 div.sk-parallel-item:first-child::after {align-self: flex-end;width: 50%;}#sk-container-id-1 div.sk-parallel-item:last-child::after {align-self: flex-start;width: 50%;}#sk-container-id-1 div.sk-parallel-item:only-child::after {width: 0;}#sk-container-id-1 div.sk-dashed-wrapped {border: 1px dashed gray;margin: 0 0.4em 0.5em 0.4em;box-sizing: border-box;padding-bottom: 0.4em;background-color: white;}#sk-container-id-1 div.sk-label label {font-family: monospace;font-weight: bold;display: inline-block;line-height: 1.2em;}#sk-container-id-1 div.sk-label-container {text-align: center;}#sk-container-id-1 div.sk-container {/* jupyter's `normalize.less` sets `[hidden] { display: none; }` but bootstrap.min.css set `[hidden] { display: none !important; }` so we also need the `!important` here to be able to override the default hidden behavior on the sphinx rendered scikit-learn.org. See: https://github.com/scikit-learn/scikit-learn/issues/21755 */display: inline-block !important;position: relative;}#sk-container-id-1 div.sk-text-repr-fallback {display: none;}</style><div id=\"sk-container-id-1\" class=\"sk-top-container\"><div class=\"sk-text-repr-fallback\"><pre>MLPClassifier(activation=&#x27;tanh&#x27;, hidden_layer_sizes=(20, 20))</pre><b>In a Jupyter environment, please rerun this cell to show the HTML representation or trust the notebook. <br />On GitHub, the HTML representation is unable to render, please try loading this page with nbviewer.org.</b></div><div class=\"sk-container\" hidden><div class=\"sk-item\"><div class=\"sk-estimator sk-toggleable\"><input class=\"sk-toggleable__control sk-hidden--visually\" id=\"sk-estimator-id-1\" type=\"checkbox\" checked><label for=\"sk-estimator-id-1\" class=\"sk-toggleable__label sk-toggleable__label-arrow\">MLPClassifier</label><div class=\"sk-toggleable__content\"><pre>MLPClassifier(activation=&#x27;tanh&#x27;, hidden_layer_sizes=(20, 20))</pre></div></div></div></div></div>"
            ]
          },
          "metadata": {},
          "execution_count": 4
        }
      ],
      "source": [
        "from sklearn.neural_network import MLPClassifier\n",
        "\n",
        "agent = MLPClassifier(\n",
        "    hidden_layer_sizes=(20, 20),\n",
        "    activation=\"tanh\",\n",
        ")\n",
        "\n",
        "# initialize agent to the dimension of state space and number of actions\n",
        "agent.partial_fit([env.reset()[0]] * n_actions, range(n_actions), range(n_actions))\n"
      ]
    },
    {
      "cell_type": "code",
      "execution_count": 14,
      "metadata": {
        "id": "eyFS3oUmG9zL"
      },
      "outputs": [],
      "source": [
        "def generate_session(env, agent, t_max=1000):\n",
        "    \"\"\"\n",
        "    Play a single game using agent neural network.\n",
        "    Terminate when game finishes or after :t_max: steps\n",
        "    \"\"\"\n",
        "    states, actions = [], []\n",
        "    total_reward = 0\n",
        "\n",
        "    s, _ = env.reset()\n",
        "\n",
        "    for t in range(t_max):\n",
        "\n",
        "        # use agent to predict a vector of action probabilities for state :s:\n",
        "        probs = agent.predict_proba(np.array([s]))[0]\n",
        "\n",
        "        assert probs.shape == (env.action_space.n,), \"make sure probabilities are a vector (hint: np.reshape)\"\n",
        "\n",
        "        # use the probabilities you predicted to pick an action\n",
        "        # sample proportionally to the probabilities, don't just take the most likely action\n",
        "        a = np.random.choice(env.action_space.n, p=probs)\n",
        "        # ^-- hint: try np.random.choice\n",
        "\n",
        "        new_s, r, terminated, truncated, _ = env.step(a)\n",
        "\n",
        "        # record sessions like you did before\n",
        "        states.append(s)\n",
        "        actions.append(a)\n",
        "        total_reward += r\n",
        "\n",
        "        s = new_s\n",
        "        if terminated or truncated:\n",
        "            break\n",
        "    return states, actions, total_reward\n"
      ]
    },
    {
      "cell_type": "code",
      "execution_count": 15,
      "metadata": {
        "id": "4xgrTCgJG9zL",
        "outputId": "24191d90-02db-43ad-85a7-988c7840a921",
        "colab": {
          "base_uri": "https://localhost:8080/"
        }
      },
      "outputs": [
        {
          "output_type": "stream",
          "name": "stdout",
          "text": [
            "states: [[ 0.04734896  0.02365026 -0.01845678  0.01095824]\n",
            " [ 0.04782197 -0.1712022  -0.01823762  0.29776117]\n",
            " [ 0.04439792  0.02417492 -0.01228239 -0.00061734]\n",
            " [ 0.04488142  0.21947084 -0.01229474 -0.29715008]\n",
            " [ 0.04927084  0.4147659  -0.01823774 -0.59368503]]\n",
            "actions: [0, 1, 1, 1, 0]\n",
            "reward: 5.0\n"
          ]
        }
      ],
      "source": [
        "dummy_states, dummy_actions, dummy_reward = generate_session(env, agent, t_max=5)\n",
        "print(\"states:\", np.stack(dummy_states))\n",
        "print(\"actions:\", dummy_actions)\n",
        "print(\"reward:\", dummy_reward)\n"
      ]
    },
    {
      "cell_type": "markdown",
      "metadata": {
        "id": "p85lt16qG9zL"
      },
      "source": [
        "### CEM steps\n",
        "Deep CEM uses exactly the same strategy as the regular CEM, so you can copy your function code from previous notebook.\n",
        "\n",
        "The only difference is that now each observation is not a number but a `float32` vector."
      ]
    },
    {
      "cell_type": "code",
      "execution_count": 7,
      "metadata": {
        "id": "4On-p7p4G9zL"
      },
      "outputs": [],
      "source": [
        "def select_elites(states_batch, actions_batch, rewards_batch, percentile):\n",
        "    \"\"\"\n",
        "    Select states and actions from games that have rewards >= percentile\n",
        "    :param states_batch: list of lists of states, states_batch[session_i][t]\n",
        "    :param actions_batch: list of lists of actions, actions_batch[session_i][t]\n",
        "    :param rewards_batch: list of rewards, rewards_batch[session_i]\n",
        "\n",
        "    :returns: elite_states, elite_actions, both 1D lists of states and respective actions from elite sessions\n",
        "    \"\"\"\n",
        "\n",
        "    # Вычисляем минимальную награду для элитных сессий\n",
        "    reward_threshold = np.percentile(rewards_batch, percentile)\n",
        "\n",
        "    # Инициализируем списки для элитных состояний и действий\n",
        "    elite_states = []\n",
        "    elite_actions = []\n",
        "\n",
        "    # Проходим по всем сессиям\n",
        "    for i in range(len(rewards_batch)):\n",
        "        # Если награда сессии выше или равна порогу, добавляем состояния и действия этой сессии в элитные списки\n",
        "        if rewards_batch[i] >= reward_threshold:\n",
        "            elite_states.extend(states_batch[i])\n",
        "            elite_actions.extend(actions_batch[i])\n",
        "\n",
        "    return elite_states, elite_actions\n"
      ]
    },
    {
      "cell_type": "markdown",
      "metadata": {
        "id": "xc40V4DaG9zM"
      },
      "source": [
        "# Training loop\n",
        "Generate sessions, select N best and fit to those."
      ]
    },
    {
      "cell_type": "code",
      "execution_count": 8,
      "metadata": {
        "id": "PPwVKwF7G9zM"
      },
      "outputs": [],
      "source": [
        "from IPython.display import clear_output\n",
        "\n",
        "\n",
        "def show_progress(rewards_batch, log, percentile, reward_range=[-990, +10]):\n",
        "    \"\"\"\n",
        "    A convenience function that displays training progress.\n",
        "    No cool math here, just charts.\n",
        "    \"\"\"\n",
        "\n",
        "    mean_reward = np.mean(rewards_batch)\n",
        "    threshold = np.percentile(rewards_batch, percentile)\n",
        "    log.append([mean_reward, threshold])\n",
        "\n",
        "    clear_output(True)\n",
        "    print(\"mean reward = %.3f, threshold=%.3f\" % (mean_reward, threshold))\n",
        "    plt.figure(figsize=[8, 4])\n",
        "    plt.subplot(1, 2, 1)\n",
        "    plt.plot(list(zip(*log))[0], label=\"Mean rewards\")\n",
        "    plt.plot(list(zip(*log))[1], label=\"Reward thresholds\")\n",
        "    plt.legend()\n",
        "    plt.grid()\n",
        "\n",
        "    plt.subplot(1, 2, 2)\n",
        "    plt.hist(rewards_batch, range=reward_range)\n",
        "    plt.vlines(\n",
        "        [np.percentile(rewards_batch, percentile)],\n",
        "        [0],\n",
        "        [100],\n",
        "        label=\"percentile\",\n",
        "        color=\"red\",\n",
        "    )\n",
        "    plt.legend()\n",
        "    plt.grid()\n",
        "\n",
        "    plt.show()\n"
      ]
    },
    {
      "cell_type": "code",
      "execution_count": 25,
      "metadata": {
        "id": "euK7WRQiG9zM",
        "outputId": "fafd83ea-e70f-4a18-8d3e-91bc0809d44a",
        "colab": {
          "base_uri": "https://localhost:8080/",
          "height": 821
        }
      },
      "outputs": [
        {
          "output_type": "stream",
          "name": "stdout",
          "text": [
            "mean reward = 260.960, threshold=321.300\n"
          ]
        },
        {
          "output_type": "display_data",
          "data": {
            "text/plain": [
              "<Figure size 800x400 with 2 Axes>"
            ],
            "image/png": "[encoded data removed]"
          },
          "metadata": {}
        },
        {
          "output_type": "stream",
          "name": "stdout",
          "text": [
            "You Win! You may stop training now via KeyboardInterrupt.\n"
          ]
        },
        {
          "output_type": "error",
          "ename": "KeyboardInterrupt",
          "evalue": "",
          "traceback": [
            "\u001b[0;31m---------------------------------------------------------------------------\u001b[0m",
            "\u001b[0;31mKeyboardInterrupt\u001b[0m                         Traceback (most recent call last)",
            "\u001b[0;32m<ipython-input-25-1ad589cb28fa>\u001b[0m in \u001b[0;36m<cell line: 5>\u001b[0;34m()\u001b[0m\n\u001b[1;32m      7\u001b[0m     \u001b[0;31m# sessions = [ <YOUR CODE: generate a list of n_sessions new sessions> ]\u001b[0m\u001b[0;34m\u001b[0m\u001b[0;34m\u001b[0m\u001b[0m\n\u001b[1;32m      8\u001b[0m \u001b[0;34m\u001b[0m\u001b[0m\n\u001b[0;32m----> 9\u001b[0;31m     \u001b[0msessions\u001b[0m \u001b[0;34m=\u001b[0m \u001b[0;34m[\u001b[0m\u001b[0mgenerate_session\u001b[0m\u001b[0;34m(\u001b[0m\u001b[0menv\u001b[0m\u001b[0;34m,\u001b[0m \u001b[0magent\u001b[0m\u001b[0;34m)\u001b[0m \u001b[0;32mfor\u001b[0m \u001b[0m_\u001b[0m \u001b[0;32min\u001b[0m \u001b[0mrange\u001b[0m\u001b[0;34m(\u001b[0m\u001b[0mn_sessions\u001b[0m\u001b[0;34m)\u001b[0m\u001b[0;34m]\u001b[0m\u001b[0;34m\u001b[0m\u001b[0;34m\u001b[0m\u001b[0m\n\u001b[0m\u001b[1;32m     10\u001b[0m \u001b[0;34m\u001b[0m\u001b[0m\n\u001b[1;32m     11\u001b[0m     \u001b[0mstates_batch\u001b[0m \u001b[0;34m=\u001b[0m \u001b[0mnp\u001b[0m\u001b[0;34m.\u001b[0m\u001b[0marray\u001b[0m\u001b[0;34m(\u001b[0m\u001b[0;34m[\u001b[0m\u001b[0mstates\u001b[0m \u001b[0;32mfor\u001b[0m \u001b[0mstates\u001b[0m\u001b[0;34m,\u001b[0m \u001b[0mactions\u001b[0m\u001b[0;34m,\u001b[0m \u001b[0mreward\u001b[0m \u001b[0;32min\u001b[0m \u001b[0msessions\u001b[0m\u001b[0;34m]\u001b[0m\u001b[0;34m,\u001b[0m \u001b[0mdtype\u001b[0m\u001b[0;34m=\u001b[0m\u001b[0mobject\u001b[0m\u001b[0;34m)\u001b[0m\u001b[0;34m\u001b[0m\u001b[0;34m\u001b[0m\u001b[0m\n",
            "\u001b[0;32m<ipython-input-25-1ad589cb28fa>\u001b[0m in \u001b[0;36m<listcomp>\u001b[0;34m(.0)\u001b[0m\n\u001b[1;32m      7\u001b[0m     \u001b[0;31m# sessions = [ <YOUR CODE: generate a list of n_sessions new sessions> ]\u001b[0m\u001b[0;34m\u001b[0m\u001b[0;34m\u001b[0m\u001b[0m\n\u001b[1;32m      8\u001b[0m \u001b[0;34m\u001b[0m\u001b[0m\n\u001b[0;32m----> 9\u001b[0;31m     \u001b[0msessions\u001b[0m \u001b[0;34m=\u001b[0m \u001b[0;34m[\u001b[0m\u001b[0mgenerate_session\u001b[0m\u001b[0;34m(\u001b[0m\u001b[0menv\u001b[0m\u001b[0;34m,\u001b[0m \u001b[0magent\u001b[0m\u001b[0;34m)\u001b[0m \u001b[0;32mfor\u001b[0m \u001b[0m_\u001b[0m \u001b[0;32min\u001b[0m \u001b[0mrange\u001b[0m\u001b[0;34m(\u001b[0m\u001b[0mn_sessions\u001b[0m\u001b[0;34m)\u001b[0m\u001b[0;34m]\u001b[0m\u001b[0;34m\u001b[0m\u001b[0;34m\u001b[0m\u001b[0m\n\u001b[0m\u001b[1;32m     10\u001b[0m \u001b[0;34m\u001b[0m\u001b[0m\n\u001b[1;32m     11\u001b[0m     \u001b[0mstates_batch\u001b[0m \u001b[0;34m=\u001b[0m \u001b[0mnp\u001b[0m\u001b[0;34m.\u001b[0m\u001b[0marray\u001b[0m\u001b[0;34m(\u001b[0m\u001b[0;34m[\u001b[0m\u001b[0mstates\u001b[0m \u001b[0;32mfor\u001b[0m \u001b[0mstates\u001b[0m\u001b[0;34m,\u001b[0m \u001b[0mactions\u001b[0m\u001b[0;34m,\u001b[0m \u001b[0mreward\u001b[0m \u001b[0;32min\u001b[0m \u001b[0msessions\u001b[0m\u001b[0;34m]\u001b[0m\u001b[0;34m,\u001b[0m \u001b[0mdtype\u001b[0m\u001b[0;34m=\u001b[0m\u001b[0mobject\u001b[0m\u001b[0;34m)\u001b[0m\u001b[0;34m\u001b[0m\u001b[0;34m\u001b[0m\u001b[0m\n",
            "\u001b[0;32m<ipython-input-14-300313ccf5c8>\u001b[0m in \u001b[0;36mgenerate_session\u001b[0;34m(env, agent, t_max)\u001b[0m\n\u001b[1;32m     12\u001b[0m \u001b[0;34m\u001b[0m\u001b[0m\n\u001b[1;32m     13\u001b[0m         \u001b[0;31m# use agent to predict a vector of action probabilities for state :s:\u001b[0m\u001b[0;34m\u001b[0m\u001b[0;34m\u001b[0m\u001b[0m\n\u001b[0;32m---> 14\u001b[0;31m         \u001b[0mprobs\u001b[0m \u001b[0;34m=\u001b[0m \u001b[0magent\u001b[0m\u001b[0;34m.\u001b[0m\u001b[0mpredict_proba\u001b[0m\u001b[0;34m(\u001b[0m\u001b[0mnp\u001b[0m\u001b[0;34m.\u001b[0m\u001b[0marray\u001b[0m\u001b[0;34m(\u001b[0m\u001b[0;34m[\u001b[0m\u001b[0ms\u001b[0m\u001b[0;34m]\u001b[0m\u001b[0;34m)\u001b[0m\u001b[0;34m)\u001b[0m\u001b[0;34m[\u001b[0m\u001b[0;36m0\u001b[0m\u001b[0;34m]\u001b[0m\u001b[0;34m\u001b[0m\u001b[0;34m\u001b[0m\u001b[0m\n\u001b[0m\u001b[1;32m     15\u001b[0m \u001b[0;34m\u001b[0m\u001b[0m\n\u001b[1;32m     16\u001b[0m         \u001b[0;32massert\u001b[0m \u001b[0mprobs\u001b[0m\u001b[0;34m.\u001b[0m\u001b[0mshape\u001b[0m \u001b[0;34m==\u001b[0m \u001b[0;34m(\u001b[0m\u001b[0menv\u001b[0m\u001b[0;34m.\u001b[0m\u001b[0maction_space\u001b[0m\u001b[0;34m.\u001b[0m\u001b[0mn\u001b[0m\u001b[0;34m,\u001b[0m\u001b[0;34m)\u001b[0m\u001b[0;34m,\u001b[0m \u001b[0;34m\"make sure probabilities are a vector (hint: np.reshape)\"\u001b[0m\u001b[0;34m\u001b[0m\u001b[0;34m\u001b[0m\u001b[0m\n",
            "\u001b[0;32m/usr/local/lib/python3.10/dist-packages/sklearn/neural_network/_multilayer_perceptron.py\u001b[0m in \u001b[0;36mpredict_proba\u001b[0;34m(self, X)\u001b[0m\n\u001b[1;32m   1242\u001b[0m         \"\"\"\n\u001b[1;32m   1243\u001b[0m         \u001b[0mcheck_is_fitted\u001b[0m\u001b[0;34m(\u001b[0m\u001b[0mself\u001b[0m\u001b[0;34m)\u001b[0m\u001b[0;34m\u001b[0m\u001b[0;34m\u001b[0m\u001b[0m\n\u001b[0;32m-> 1244\u001b[0;31m         \u001b[0my_pred\u001b[0m \u001b[0;34m=\u001b[0m \u001b[0mself\u001b[0m\u001b[0;34m.\u001b[0m\u001b[0m_forward_pass_fast\u001b[0m\u001b[0;34m(\u001b[0m\u001b[0mX\u001b[0m\u001b[0;34m)\u001b[0m\u001b[0;34m\u001b[0m\u001b[0;34m\u001b[0m\u001b[0m\n\u001b[0m\u001b[1;32m   1245\u001b[0m \u001b[0;34m\u001b[0m\u001b[0m\n\u001b[1;32m   1246\u001b[0m         \u001b[0;32mif\u001b[0m \u001b[0mself\u001b[0m\u001b[0;34m.\u001b[0m\u001b[0mn_outputs_\u001b[0m \u001b[0;34m==\u001b[0m \u001b[0;36m1\u001b[0m\u001b[0;34m:\u001b[0m\u001b[0;34m\u001b[0m\u001b[0;34m\u001b[0m\u001b[0m\n",
            "\u001b[0;32m/usr/local/lib/python3.10/dist-packages/sklearn/neural_network/_multilayer_perceptron.py\u001b[0m in \u001b[0;36m_forward_pass_fast\u001b[0;34m(self, X, check_input)\u001b[0m\n\u001b[1;32m    205\u001b[0m         \"\"\"\n\u001b[1;32m    206\u001b[0m         \u001b[0;32mif\u001b[0m \u001b[0mcheck_input\u001b[0m\u001b[0;34m:\u001b[0m\u001b[0;34m\u001b[0m\u001b[0;34m\u001b[0m\u001b[0m\n\u001b[0;32m--> 207\u001b[0;31m             \u001b[0mX\u001b[0m \u001b[0;34m=\u001b[0m \u001b[0mself\u001b[0m\u001b[0;34m.\u001b[0m\u001b[0m_validate_data\u001b[0m\u001b[0;34m(\u001b[0m\u001b[0mX\u001b[0m\u001b[0;34m,\u001b[0m \u001b[0maccept_sparse\u001b[0m\u001b[0;34m=\u001b[0m\u001b[0;34m[\u001b[0m\u001b[0;34m\"csr\"\u001b[0m\u001b[0;34m,\u001b[0m \u001b[0;34m\"csc\"\u001b[0m\u001b[0;34m]\u001b[0m\u001b[0;34m,\u001b[0m \u001b[0mreset\u001b[0m\u001b[0;34m=\u001b[0m\u001b[0;32mFalse\u001b[0m\u001b[0;34m)\u001b[0m\u001b[0;34m\u001b[0m\u001b[0;34m\u001b[0m\u001b[0m\n\u001b[0m\u001b[1;32m    208\u001b[0m \u001b[0;34m\u001b[0m\u001b[0m\n\u001b[1;32m    209\u001b[0m         \u001b[0;31m# Initialize first layer\u001b[0m\u001b[0;34m\u001b[0m\u001b[0;34m\u001b[0m\u001b[0m\n",
            "\u001b[0;32m/usr/local/lib/python3.10/dist-packages/sklearn/base.py\u001b[0m in \u001b[0;36m_validate_data\u001b[0;34m(self, X, y, reset, validate_separately, cast_to_ndarray, **check_params)\u001b[0m\n\u001b[1;32m    603\u001b[0m                 \u001b[0mout\u001b[0m \u001b[0;34m=\u001b[0m \u001b[0mX\u001b[0m\u001b[0;34m,\u001b[0m \u001b[0my\u001b[0m\u001b[0;34m\u001b[0m\u001b[0;34m\u001b[0m\u001b[0m\n\u001b[1;32m    604\u001b[0m         \u001b[0;32melif\u001b[0m \u001b[0;32mnot\u001b[0m \u001b[0mno_val_X\u001b[0m \u001b[0;32mand\u001b[0m \u001b[0mno_val_y\u001b[0m\u001b[0;34m:\u001b[0m\u001b[0;34m\u001b[0m\u001b[0;34m\u001b[0m\u001b[0m\n\u001b[0;32m--> 605\u001b[0;31m             \u001b[0mout\u001b[0m \u001b[0;34m=\u001b[0m \u001b[0mcheck_array\u001b[0m\u001b[0;34m(\u001b[0m\u001b[0mX\u001b[0m\u001b[0;34m,\u001b[0m \u001b[0minput_name\u001b[0m\u001b[0;34m=\u001b[0m\u001b[0;34m\"X\"\u001b[0m\u001b[0;34m,\u001b[0m \u001b[0;34m**\u001b[0m\u001b[0mcheck_params\u001b[0m\u001b[0;34m)\u001b[0m\u001b[0;34m\u001b[0m\u001b[0;34m\u001b[0m\u001b[0m\n\u001b[0m\u001b[1;32m    606\u001b[0m         \u001b[0;32melif\u001b[0m \u001b[0mno_val_X\u001b[0m \u001b[0;32mand\u001b[0m \u001b[0;32mnot\u001b[0m \u001b[0mno_val_y\u001b[0m\u001b[0;34m:\u001b[0m\u001b[0;34m\u001b[0m\u001b[0;34m\u001b[0m\u001b[0m\n\u001b[1;32m    607\u001b[0m             \u001b[0mout\u001b[0m \u001b[0;34m=\u001b[0m \u001b[0m_check_y\u001b[0m\u001b[0;34m(\u001b[0m\u001b[0my\u001b[0m\u001b[0;34m,\u001b[0m \u001b[0;34m**\u001b[0m\u001b[0mcheck_params\u001b[0m\u001b[0;34m)\u001b[0m\u001b[0;34m\u001b[0m\u001b[0;34m\u001b[0m\u001b[0m\n",
            "\u001b[0;32m/usr/local/lib/python3.10/dist-packages/sklearn/utils/validation.py\u001b[0m in \u001b[0;36mcheck_array\u001b[0;34m(array, accept_sparse, accept_large_sparse, dtype, order, copy, force_all_finite, ensure_2d, allow_nd, ensure_min_samples, ensure_min_features, estimator, input_name)\u001b[0m\n\u001b[1;32m    955\u001b[0m \u001b[0;34m\u001b[0m\u001b[0m\n\u001b[1;32m    956\u001b[0m         \u001b[0;32mif\u001b[0m \u001b[0mforce_all_finite\u001b[0m\u001b[0;34m:\u001b[0m\u001b[0;34m\u001b[0m\u001b[0;34m\u001b[0m\u001b[0m\n\u001b[0;32m--> 957\u001b[0;31m             _assert_all_finite(\n\u001b[0m\u001b[1;32m    958\u001b[0m                 \u001b[0marray\u001b[0m\u001b[0;34m,\u001b[0m\u001b[0;34m\u001b[0m\u001b[0;34m\u001b[0m\u001b[0m\n\u001b[1;32m    959\u001b[0m                 \u001b[0minput_name\u001b[0m\u001b[0;34m=\u001b[0m\u001b[0minput_name\u001b[0m\u001b[0;34m,\u001b[0m\u001b[0;34m\u001b[0m\u001b[0;34m\u001b[0m\u001b[0m\n",
            "\u001b[0;32m/usr/local/lib/python3.10/dist-packages/sklearn/utils/validation.py\u001b[0m in \u001b[0;36m_assert_all_finite\u001b[0;34m(X, allow_nan, msg_dtype, estimator_name, input_name)\u001b[0m\n\u001b[1;32m    116\u001b[0m     \u001b[0;31m# error message.\u001b[0m\u001b[0;34m\u001b[0m\u001b[0;34m\u001b[0m\u001b[0m\n\u001b[1;32m    117\u001b[0m     \u001b[0;32mwith\u001b[0m \u001b[0mnp\u001b[0m\u001b[0;34m.\u001b[0m\u001b[0merrstate\u001b[0m\u001b[0;34m(\u001b[0m\u001b[0mover\u001b[0m\u001b[0;34m=\u001b[0m\u001b[0;34m\"ignore\"\u001b[0m\u001b[0;34m)\u001b[0m\u001b[0;34m:\u001b[0m\u001b[0;34m\u001b[0m\u001b[0;34m\u001b[0m\u001b[0m\n\u001b[0;32m--> 118\u001b[0;31m         \u001b[0mfirst_pass_isfinite\u001b[0m \u001b[0;34m=\u001b[0m \u001b[0mxp\u001b[0m\u001b[0;34m.\u001b[0m\u001b[0misfinite\u001b[0m\u001b[0;34m(\u001b[0m\u001b[0mxp\u001b[0m\u001b[0;34m.\u001b[0m\u001b[0msum\u001b[0m\u001b[0;34m(\u001b[0m\u001b[0mX\u001b[0m\u001b[0;34m)\u001b[0m\u001b[0;34m)\u001b[0m\u001b[0;34m\u001b[0m\u001b[0;34m\u001b[0m\u001b[0m\n\u001b[0m\u001b[1;32m    119\u001b[0m     \u001b[0;32mif\u001b[0m \u001b[0mfirst_pass_isfinite\u001b[0m\u001b[0;34m:\u001b[0m\u001b[0;34m\u001b[0m\u001b[0;34m\u001b[0m\u001b[0m\n\u001b[1;32m    120\u001b[0m         \u001b[0;32mreturn\u001b[0m\u001b[0;34m\u001b[0m\u001b[0;34m\u001b[0m\u001b[0m\n",
            "\u001b[0;32m/usr/local/lib/python3.10/dist-packages/numpy/core/fromnumeric.py\u001b[0m in \u001b[0;36msum\u001b[0;34m(a, axis, dtype, out, keepdims, initial, where)\u001b[0m\n\u001b[1;32m   2311\u001b[0m         \u001b[0;32mreturn\u001b[0m \u001b[0mres\u001b[0m\u001b[0;34m\u001b[0m\u001b[0;34m\u001b[0m\u001b[0m\n\u001b[1;32m   2312\u001b[0m \u001b[0;34m\u001b[0m\u001b[0m\n\u001b[0;32m-> 2313\u001b[0;31m     return _wrapreduction(a, np.add, 'sum', axis, dtype, out, keepdims=keepdims,\n\u001b[0m\u001b[1;32m   2314\u001b[0m                           initial=initial, where=where)\n\u001b[1;32m   2315\u001b[0m \u001b[0;34m\u001b[0m\u001b[0m\n",
            "\u001b[0;32m/usr/local/lib/python3.10/dist-packages/numpy/core/fromnumeric.py\u001b[0m in \u001b[0;36m_wrapreduction\u001b[0;34m(obj, ufunc, method, axis, dtype, out, **kwargs)\u001b[0m\n\u001b[1;32m     86\u001b[0m                 \u001b[0;32mreturn\u001b[0m \u001b[0mreduction\u001b[0m\u001b[0;34m(\u001b[0m\u001b[0maxis\u001b[0m\u001b[0;34m=\u001b[0m\u001b[0maxis\u001b[0m\u001b[0;34m,\u001b[0m \u001b[0mout\u001b[0m\u001b[0;34m=\u001b[0m\u001b[0mout\u001b[0m\u001b[0;34m,\u001b[0m \u001b[0;34m**\u001b[0m\u001b[0mpasskwargs\u001b[0m\u001b[0;34m)\u001b[0m\u001b[0;34m\u001b[0m\u001b[0;34m\u001b[0m\u001b[0m\n\u001b[1;32m     87\u001b[0m \u001b[0;34m\u001b[0m\u001b[0m\n\u001b[0;32m---> 88\u001b[0;31m     \u001b[0;32mreturn\u001b[0m \u001b[0mufunc\u001b[0m\u001b[0;34m.\u001b[0m\u001b[0mreduce\u001b[0m\u001b[0;34m(\u001b[0m\u001b[0mobj\u001b[0m\u001b[0;34m,\u001b[0m \u001b[0maxis\u001b[0m\u001b[0;34m,\u001b[0m \u001b[0mdtype\u001b[0m\u001b[0;34m,\u001b[0m \u001b[0mout\u001b[0m\u001b[0;34m,\u001b[0m \u001b[0;34m**\u001b[0m\u001b[0mpasskwargs\u001b[0m\u001b[0;34m)\u001b[0m\u001b[0;34m\u001b[0m\u001b[0;34m\u001b[0m\u001b[0m\n\u001b[0m\u001b[1;32m     89\u001b[0m \u001b[0;34m\u001b[0m\u001b[0m\n\u001b[1;32m     90\u001b[0m \u001b[0;34m\u001b[0m\u001b[0m\n",
            "\u001b[0;31mKeyboardInterrupt\u001b[0m: "
          ]
        }
      ],
      "source": [
        "n_sessions = 100\n",
        "percentile = 70\n",
        "log = []\n",
        "\n",
        "for i in range(100):\n",
        "    # generate new sessions\n",
        "    # sessions = [ <YOUR CODE: generate a list of n_sessions new sessions> ]\n",
        "\n",
        "    sessions = [generate_session(env, agent) for _ in range(n_sessions)]\n",
        "\n",
        "    states_batch = np.array([states for states, actions, reward in sessions], dtype=object)\n",
        "    actions_batch = np.array([actions for states, actions, reward in sessions], dtype=object)\n",
        "    rewards_batch = np.array([reward for states, actions, reward in sessions])\n",
        "\n",
        "\n",
        "    # elite_states, elite_actions = <YOUR CODE: select elite actions just like before>\n",
        "    elite_states, elite_actions = select_elites(states_batch, actions_batch, rewards_batch, percentile)\n",
        "\n",
        "    # <YOUR CODE: partial_fit agent to predict elite_actions(y) from elite_states(X)>\n",
        "\n",
        "    agent.partial_fit(elite_states, elite_actions)\n",
        "\n",
        "    show_progress(\n",
        "        rewards_batch, log, percentile, reward_range=[0, np.max(rewards_batch)]\n",
        "    )\n",
        "\n",
        "    if np.mean(rewards_batch) > 190:\n",
        "        print(\"You Win! You may stop training now via KeyboardInterrupt.\")\n"
      ]
    },
    {
      "cell_type": "markdown",
      "metadata": {
        "id": "yeNWKjtsG9zM"
      },
      "source": [
        "# Results"
      ]
    },
    {
      "cell_type": "code",
      "execution_count": 26,
      "metadata": {
        "id": "RJwsWl4kG9zM",
        "outputId": "134a5c88-6341-41b4-928c-51dbbecc9a16",
        "colab": {
          "base_uri": "https://localhost:8080/"
        }
      },
      "outputs": [
        {
          "output_type": "stream",
          "name": "stderr",
          "text": [
            "/usr/local/lib/python3.10/dist-packages/gymnasium/envs/registration.py:513: DeprecationWarning: \u001b[33mWARN: The environment CartPole-v0 is out of date. You should consider upgrading to version `v1`.\u001b[0m\n",
            "  logger.deprecation(\n",
            "/usr/local/lib/python3.10/dist-packages/gymnasium/wrappers/record_video.py:94: UserWarning: \u001b[33mWARN: Overwriting existing videos at /content/videos folder (try specifying a different `video_folder` for the `RecordVideo` wrapper if this is not desired)\u001b[0m\n",
            "  logger.warn(\n"
          ]
        },
        {
          "output_type": "stream",
          "name": "stdout",
          "text": [
            "Moviepy - Building video /content/videos/rl-video-episode-0.mp4.\n",
            "Moviepy - Writing video /content/videos/rl-video-episode-0.mp4\n",
            "\n"
          ]
        },
        {
          "output_type": "stream",
          "name": "stderr",
          "text": []
        },
        {
          "output_type": "stream",
          "name": "stdout",
          "text": [
            "Moviepy - Done !\n",
            "Moviepy - video ready /content/videos/rl-video-episode-0.mp4\n",
            "Moviepy - Building video /content/videos/rl-video-episode-1.mp4.\n",
            "Moviepy - Writing video /content/videos/rl-video-episode-1.mp4\n",
            "\n"
          ]
        },
        {
          "output_type": "stream",
          "name": "stderr",
          "text": []
        },
        {
          "output_type": "stream",
          "name": "stdout",
          "text": [
            "Moviepy - Done !\n",
            "Moviepy - video ready /content/videos/rl-video-episode-1.mp4\n",
            "Moviepy - Building video /content/videos/rl-video-episode-2.mp4.\n",
            "Moviepy - Writing video /content/videos/rl-video-episode-2.mp4\n",
            "\n"
          ]
        },
        {
          "output_type": "stream",
          "name": "stderr",
          "text": []
        },
        {
          "output_type": "stream",
          "name": "stdout",
          "text": [
            "Moviepy - Done !\n",
            "Moviepy - video ready /content/videos/rl-video-episode-2.mp4\n",
            "Moviepy - Building video /content/videos/rl-video-episode-3.mp4.\n",
            "Moviepy - Writing video /content/videos/rl-video-episode-3.mp4\n",
            "\n"
          ]
        },
        {
          "output_type": "stream",
          "name": "stderr",
          "text": []
        },
        {
          "output_type": "stream",
          "name": "stdout",
          "text": [
            "Moviepy - Done !\n",
            "Moviepy - video ready /content/videos/rl-video-episode-3.mp4\n",
            "Moviepy - Building video /content/videos/rl-video-episode-4.mp4.\n",
            "Moviepy - Writing video /content/videos/rl-video-episode-4.mp4\n",
            "\n"
          ]
        },
        {
          "output_type": "stream",
          "name": "stderr",
          "text": []
        },
        {
          "output_type": "stream",
          "name": "stdout",
          "text": [
            "Moviepy - Done !\n",
            "Moviepy - video ready /content/videos/rl-video-episode-4.mp4\n",
            "Moviepy - Building video /content/videos/rl-video-episode-5.mp4.\n",
            "Moviepy - Writing video /content/videos/rl-video-episode-5.mp4\n",
            "\n"
          ]
        },
        {
          "output_type": "stream",
          "name": "stderr",
          "text": []
        },
        {
          "output_type": "stream",
          "name": "stdout",
          "text": [
            "Moviepy - Done !\n",
            "Moviepy - video ready /content/videos/rl-video-episode-5.mp4\n",
            "Moviepy - Building video /content/videos/rl-video-episode-6.mp4.\n",
            "Moviepy - Writing video /content/videos/rl-video-episode-6.mp4\n",
            "\n"
          ]
        },
        {
          "output_type": "stream",
          "name": "stderr",
          "text": []
        },
        {
          "output_type": "stream",
          "name": "stdout",
          "text": [
            "Moviepy - Done !\n",
            "Moviepy - video ready /content/videos/rl-video-episode-6.mp4\n",
            "Moviepy - Building video /content/videos/rl-video-episode-7.mp4.\n",
            "Moviepy - Writing video /content/videos/rl-video-episode-7.mp4\n",
            "\n"
          ]
        },
        {
          "output_type": "stream",
          "name": "stderr",
          "text": []
        },
        {
          "output_type": "stream",
          "name": "stdout",
          "text": [
            "Moviepy - Done !\n",
            "Moviepy - video ready /content/videos/rl-video-episode-7.mp4\n",
            "Moviepy - Building video /content/videos/rl-video-episode-8.mp4.\n",
            "Moviepy - Writing video /content/videos/rl-video-episode-8.mp4\n",
            "\n"
          ]
        },
        {
          "output_type": "stream",
          "name": "stderr",
          "text": []
        },
        {
          "output_type": "stream",
          "name": "stdout",
          "text": [
            "Moviepy - Done !\n",
            "Moviepy - video ready /content/videos/rl-video-episode-8.mp4\n",
            "Moviepy - Building video /content/videos/rl-video-episode-9.mp4.\n",
            "Moviepy - Writing video /content/videos/rl-video-episode-9.mp4\n",
            "\n"
          ]
        },
        {
          "output_type": "stream",
          "name": "stderr",
          "text": []
        },
        {
          "output_type": "stream",
          "name": "stdout",
          "text": [
            "Moviepy - Done !\n",
            "Moviepy - video ready /content/videos/rl-video-episode-9.mp4\n",
            "Moviepy - Building video /content/videos/rl-video-episode-10.mp4.\n",
            "Moviepy - Writing video /content/videos/rl-video-episode-10.mp4\n",
            "\n"
          ]
        },
        {
          "output_type": "stream",
          "name": "stderr",
          "text": []
        },
        {
          "output_type": "stream",
          "name": "stdout",
          "text": [
            "Moviepy - Done !\n",
            "Moviepy - video ready /content/videos/rl-video-episode-10.mp4\n",
            "Moviepy - Building video /content/videos/rl-video-episode-11.mp4.\n",
            "Moviepy - Writing video /content/videos/rl-video-episode-11.mp4\n",
            "\n"
          ]
        },
        {
          "output_type": "stream",
          "name": "stderr",
          "text": []
        },
        {
          "output_type": "stream",
          "name": "stdout",
          "text": [
            "Moviepy - Done !\n",
            "Moviepy - video ready /content/videos/rl-video-episode-11.mp4\n",
            "Moviepy - Building video /content/videos/rl-video-episode-12.mp4.\n",
            "Moviepy - Writing video /content/videos/rl-video-episode-12.mp4\n",
            "\n"
          ]
        },
        {
          "output_type": "stream",
          "name": "stderr",
          "text": []
        },
        {
          "output_type": "stream",
          "name": "stdout",
          "text": [
            "Moviepy - Done !\n",
            "Moviepy - video ready /content/videos/rl-video-episode-12.mp4\n",
            "Moviepy - Building video /content/videos/rl-video-episode-13.mp4.\n",
            "Moviepy - Writing video /content/videos/rl-video-episode-13.mp4\n",
            "\n"
          ]
        },
        {
          "output_type": "stream",
          "name": "stderr",
          "text": []
        },
        {
          "output_type": "stream",
          "name": "stdout",
          "text": [
            "Moviepy - Done !\n",
            "Moviepy - video ready /content/videos/rl-video-episode-13.mp4\n",
            "Moviepy - Building video /content/videos/rl-video-episode-14.mp4.\n",
            "Moviepy - Writing video /content/videos/rl-video-episode-14.mp4\n",
            "\n"
          ]
        },
        {
          "output_type": "stream",
          "name": "stderr",
          "text": []
        },
        {
          "output_type": "stream",
          "name": "stdout",
          "text": [
            "Moviepy - Done !\n",
            "Moviepy - video ready /content/videos/rl-video-episode-14.mp4\n",
            "Moviepy - Building video /content/videos/rl-video-episode-15.mp4.\n",
            "Moviepy - Writing video /content/videos/rl-video-episode-15.mp4\n",
            "\n"
          ]
        },
        {
          "output_type": "stream",
          "name": "stderr",
          "text": []
        },
        {
          "output_type": "stream",
          "name": "stdout",
          "text": [
            "Moviepy - Done !\n",
            "Moviepy - video ready /content/videos/rl-video-episode-15.mp4\n",
            "Moviepy - Building video /content/videos/rl-video-episode-16.mp4.\n",
            "Moviepy - Writing video /content/videos/rl-video-episode-16.mp4\n",
            "\n"
          ]
        },
        {
          "output_type": "stream",
          "name": "stderr",
          "text": []
        },
        {
          "output_type": "stream",
          "name": "stdout",
          "text": [
            "Moviepy - Done !\n",
            "Moviepy - video ready /content/videos/rl-video-episode-16.mp4\n",
            "Moviepy - Building video /content/videos/rl-video-episode-17.mp4.\n",
            "Moviepy - Writing video /content/videos/rl-video-episode-17.mp4\n",
            "\n"
          ]
        },
        {
          "output_type": "stream",
          "name": "stderr",
          "text": []
        },
        {
          "output_type": "stream",
          "name": "stdout",
          "text": [
            "Moviepy - Done !\n",
            "Moviepy - video ready /content/videos/rl-video-episode-17.mp4\n",
            "Moviepy - Building video /content/videos/rl-video-episode-18.mp4.\n",
            "Moviepy - Writing video /content/videos/rl-video-episode-18.mp4\n",
            "\n"
          ]
        },
        {
          "output_type": "stream",
          "name": "stderr",
          "text": []
        },
        {
          "output_type": "stream",
          "name": "stdout",
          "text": [
            "Moviepy - Done !\n",
            "Moviepy - video ready /content/videos/rl-video-episode-18.mp4\n",
            "Moviepy - Building video /content/videos/rl-video-episode-19.mp4.\n",
            "Moviepy - Writing video /content/videos/rl-video-episode-19.mp4\n",
            "\n"
          ]
        },
        {
          "output_type": "stream",
          "name": "stderr",
          "text": []
        },
        {
          "output_type": "stream",
          "name": "stdout",
          "text": [
            "Moviepy - Done !\n",
            "Moviepy - video ready /content/videos/rl-video-episode-19.mp4\n",
            "Moviepy - Building video /content/videos/rl-video-episode-20.mp4.\n",
            "Moviepy - Writing video /content/videos/rl-video-episode-20.mp4\n",
            "\n"
          ]
        },
        {
          "output_type": "stream",
          "name": "stderr",
          "text": []
        },
        {
          "output_type": "stream",
          "name": "stdout",
          "text": [
            "Moviepy - Done !\n",
            "Moviepy - video ready /content/videos/rl-video-episode-20.mp4\n",
            "Moviepy - Building video /content/videos/rl-video-episode-21.mp4.\n",
            "Moviepy - Writing video /content/videos/rl-video-episode-21.mp4\n",
            "\n"
          ]
        },
        {
          "output_type": "stream",
          "name": "stderr",
          "text": []
        },
        {
          "output_type": "stream",
          "name": "stdout",
          "text": [
            "Moviepy - Done !\n",
            "Moviepy - video ready /content/videos/rl-video-episode-21.mp4\n",
            "Moviepy - Building video /content/videos/rl-video-episode-22.mp4.\n",
            "Moviepy - Writing video /content/videos/rl-video-episode-22.mp4\n",
            "\n"
          ]
        },
        {
          "output_type": "stream",
          "name": "stderr",
          "text": []
        },
        {
          "output_type": "stream",
          "name": "stdout",
          "text": [
            "Moviepy - Done !\n",
            "Moviepy - video ready /content/videos/rl-video-episode-22.mp4\n",
            "Moviepy - Building video /content/videos/rl-video-episode-23.mp4.\n",
            "Moviepy - Writing video /content/videos/rl-video-episode-23.mp4\n",
            "\n"
          ]
        },
        {
          "output_type": "stream",
          "name": "stderr",
          "text": []
        },
        {
          "output_type": "stream",
          "name": "stdout",
          "text": [
            "Moviepy - Done !\n",
            "Moviepy - video ready /content/videos/rl-video-episode-23.mp4\n",
            "Moviepy - Building video /content/videos/rl-video-episode-24.mp4.\n",
            "Moviepy - Writing video /content/videos/rl-video-episode-24.mp4\n",
            "\n"
          ]
        },
        {
          "output_type": "stream",
          "name": "stderr",
          "text": []
        },
        {
          "output_type": "stream",
          "name": "stdout",
          "text": [
            "Moviepy - Done !\n",
            "Moviepy - video ready /content/videos/rl-video-episode-24.mp4\n",
            "Moviepy - Building video /content/videos/rl-video-episode-25.mp4.\n",
            "Moviepy - Writing video /content/videos/rl-video-episode-25.mp4\n",
            "\n"
          ]
        },
        {
          "output_type": "stream",
          "name": "stderr",
          "text": []
        },
        {
          "output_type": "stream",
          "name": "stdout",
          "text": [
            "Moviepy - Done !\n",
            "Moviepy - video ready /content/videos/rl-video-episode-25.mp4\n",
            "Moviepy - Building video /content/videos/rl-video-episode-26.mp4.\n",
            "Moviepy - Writing video /content/videos/rl-video-episode-26.mp4\n",
            "\n"
          ]
        },
        {
          "output_type": "stream",
          "name": "stderr",
          "text": []
        },
        {
          "output_type": "stream",
          "name": "stdout",
          "text": [
            "Moviepy - Done !\n",
            "Moviepy - video ready /content/videos/rl-video-episode-26.mp4\n",
            "Moviepy - Building video /content/videos/rl-video-episode-27.mp4.\n",
            "Moviepy - Writing video /content/videos/rl-video-episode-27.mp4\n",
            "\n"
          ]
        },
        {
          "output_type": "stream",
          "name": "stderr",
          "text": []
        },
        {
          "output_type": "stream",
          "name": "stdout",
          "text": [
            "Moviepy - Done !\n",
            "Moviepy - video ready /content/videos/rl-video-episode-27.mp4\n",
            "Moviepy - Building video /content/videos/rl-video-episode-28.mp4.\n",
            "Moviepy - Writing video /content/videos/rl-video-episode-28.mp4\n",
            "\n"
          ]
        },
        {
          "output_type": "stream",
          "name": "stderr",
          "text": []
        },
        {
          "output_type": "stream",
          "name": "stdout",
          "text": [
            "Moviepy - Done !\n",
            "Moviepy - video ready /content/videos/rl-video-episode-28.mp4\n",
            "Moviepy - Building video /content/videos/rl-video-episode-29.mp4.\n",
            "Moviepy - Writing video /content/videos/rl-video-episode-29.mp4\n",
            "\n"
          ]
        },
        {
          "output_type": "stream",
          "name": "stderr",
          "text": []
        },
        {
          "output_type": "stream",
          "name": "stdout",
          "text": [
            "Moviepy - Done !\n",
            "Moviepy - video ready /content/videos/rl-video-episode-29.mp4\n",
            "Moviepy - Building video /content/videos/rl-video-episode-30.mp4.\n",
            "Moviepy - Writing video /content/videos/rl-video-episode-30.mp4\n",
            "\n"
          ]
        },
        {
          "output_type": "stream",
          "name": "stderr",
          "text": []
        },
        {
          "output_type": "stream",
          "name": "stdout",
          "text": [
            "Moviepy - Done !\n",
            "Moviepy - video ready /content/videos/rl-video-episode-30.mp4\n",
            "Moviepy - Building video /content/videos/rl-video-episode-31.mp4.\n",
            "Moviepy - Writing video /content/videos/rl-video-episode-31.mp4\n",
            "\n"
          ]
        },
        {
          "output_type": "stream",
          "name": "stderr",
          "text": []
        },
        {
          "output_type": "stream",
          "name": "stdout",
          "text": [
            "Moviepy - Done !\n",
            "Moviepy - video ready /content/videos/rl-video-episode-31.mp4\n",
            "Moviepy - Building video /content/videos/rl-video-episode-32.mp4.\n",
            "Moviepy - Writing video /content/videos/rl-video-episode-32.mp4\n",
            "\n"
          ]
        },
        {
          "output_type": "stream",
          "name": "stderr",
          "text": []
        },
        {
          "output_type": "stream",
          "name": "stdout",
          "text": [
            "Moviepy - Done !\n",
            "Moviepy - video ready /content/videos/rl-video-episode-32.mp4\n",
            "Moviepy - Building video /content/videos/rl-video-episode-33.mp4.\n",
            "Moviepy - Writing video /content/videos/rl-video-episode-33.mp4\n",
            "\n"
          ]
        },
        {
          "output_type": "stream",
          "name": "stderr",
          "text": []
        },
        {
          "output_type": "stream",
          "name": "stdout",
          "text": [
            "Moviepy - Done !\n",
            "Moviepy - video ready /content/videos/rl-video-episode-33.mp4\n",
            "Moviepy - Building video /content/videos/rl-video-episode-34.mp4.\n",
            "Moviepy - Writing video /content/videos/rl-video-episode-34.mp4\n",
            "\n"
          ]
        },
        {
          "output_type": "stream",
          "name": "stderr",
          "text": []
        },
        {
          "output_type": "stream",
          "name": "stdout",
          "text": [
            "Moviepy - Done !\n",
            "Moviepy - video ready /content/videos/rl-video-episode-34.mp4\n",
            "Moviepy - Building video /content/videos/rl-video-episode-35.mp4.\n",
            "Moviepy - Writing video /content/videos/rl-video-episode-35.mp4\n",
            "\n"
          ]
        },
        {
          "output_type": "stream",
          "name": "stderr",
          "text": []
        },
        {
          "output_type": "stream",
          "name": "stdout",
          "text": [
            "Moviepy - Done !\n",
            "Moviepy - video ready /content/videos/rl-video-episode-35.mp4\n",
            "Moviepy - Building video /content/videos/rl-video-episode-36.mp4.\n",
            "Moviepy - Writing video /content/videos/rl-video-episode-36.mp4\n",
            "\n"
          ]
        },
        {
          "output_type": "stream",
          "name": "stderr",
          "text": []
        },
        {
          "output_type": "stream",
          "name": "stdout",
          "text": [
            "Moviepy - Done !\n",
            "Moviepy - video ready /content/videos/rl-video-episode-36.mp4\n",
            "Moviepy - Building video /content/videos/rl-video-episode-37.mp4.\n",
            "Moviepy - Writing video /content/videos/rl-video-episode-37.mp4\n",
            "\n"
          ]
        },
        {
          "output_type": "stream",
          "name": "stderr",
          "text": []
        },
        {
          "output_type": "stream",
          "name": "stdout",
          "text": [
            "Moviepy - Done !\n",
            "Moviepy - video ready /content/videos/rl-video-episode-37.mp4\n",
            "Moviepy - Building video /content/videos/rl-video-episode-38.mp4.\n",
            "Moviepy - Writing video /content/videos/rl-video-episode-38.mp4\n",
            "\n"
          ]
        },
        {
          "output_type": "stream",
          "name": "stderr",
          "text": []
        },
        {
          "output_type": "stream",
          "name": "stdout",
          "text": [
            "Moviepy - Done !\n",
            "Moviepy - video ready /content/videos/rl-video-episode-38.mp4\n",
            "Moviepy - Building video /content/videos/rl-video-episode-39.mp4.\n",
            "Moviepy - Writing video /content/videos/rl-video-episode-39.mp4\n",
            "\n"
          ]
        },
        {
          "output_type": "stream",
          "name": "stderr",
          "text": []
        },
        {
          "output_type": "stream",
          "name": "stdout",
          "text": [
            "Moviepy - Done !\n",
            "Moviepy - video ready /content/videos/rl-video-episode-39.mp4\n",
            "Moviepy - Building video /content/videos/rl-video-episode-40.mp4.\n",
            "Moviepy - Writing video /content/videos/rl-video-episode-40.mp4\n",
            "\n"
          ]
        },
        {
          "output_type": "stream",
          "name": "stderr",
          "text": []
        },
        {
          "output_type": "stream",
          "name": "stdout",
          "text": [
            "Moviepy - Done !\n",
            "Moviepy - video ready /content/videos/rl-video-episode-40.mp4\n",
            "Moviepy - Building video /content/videos/rl-video-episode-41.mp4.\n",
            "Moviepy - Writing video /content/videos/rl-video-episode-41.mp4\n",
            "\n"
          ]
        },
        {
          "output_type": "stream",
          "name": "stderr",
          "text": []
        },
        {
          "output_type": "stream",
          "name": "stdout",
          "text": [
            "Moviepy - Done !\n",
            "Moviepy - video ready /content/videos/rl-video-episode-41.mp4\n",
            "Moviepy - Building video /content/videos/rl-video-episode-42.mp4.\n",
            "Moviepy - Writing video /content/videos/rl-video-episode-42.mp4\n",
            "\n"
          ]
        },
        {
          "output_type": "stream",
          "name": "stderr",
          "text": []
        },
        {
          "output_type": "stream",
          "name": "stdout",
          "text": [
            "Moviepy - Done !\n",
            "Moviepy - video ready /content/videos/rl-video-episode-42.mp4\n",
            "Moviepy - Building video /content/videos/rl-video-episode-43.mp4.\n",
            "Moviepy - Writing video /content/videos/rl-video-episode-43.mp4\n",
            "\n"
          ]
        },
        {
          "output_type": "stream",
          "name": "stderr",
          "text": []
        },
        {
          "output_type": "stream",
          "name": "stdout",
          "text": [
            "Moviepy - Done !\n",
            "Moviepy - video ready /content/videos/rl-video-episode-43.mp4\n",
            "Moviepy - Building video /content/videos/rl-video-episode-44.mp4.\n",
            "Moviepy - Writing video /content/videos/rl-video-episode-44.mp4\n",
            "\n"
          ]
        },
        {
          "output_type": "stream",
          "name": "stderr",
          "text": []
        },
        {
          "output_type": "stream",
          "name": "stdout",
          "text": [
            "Moviepy - Done !\n",
            "Moviepy - video ready /content/videos/rl-video-episode-44.mp4\n",
            "Moviepy - Building video /content/videos/rl-video-episode-45.mp4.\n",
            "Moviepy - Writing video /content/videos/rl-video-episode-45.mp4\n",
            "\n"
          ]
        },
        {
          "output_type": "stream",
          "name": "stderr",
          "text": []
        },
        {
          "output_type": "stream",
          "name": "stdout",
          "text": [
            "Moviepy - Done !\n",
            "Moviepy - video ready /content/videos/rl-video-episode-45.mp4\n",
            "Moviepy - Building video /content/videos/rl-video-episode-46.mp4.\n",
            "Moviepy - Writing video /content/videos/rl-video-episode-46.mp4\n",
            "\n"
          ]
        },
        {
          "output_type": "stream",
          "name": "stderr",
          "text": []
        },
        {
          "output_type": "stream",
          "name": "stdout",
          "text": [
            "Moviepy - Done !\n",
            "Moviepy - video ready /content/videos/rl-video-episode-46.mp4\n",
            "Moviepy - Building video /content/videos/rl-video-episode-47.mp4.\n",
            "Moviepy - Writing video /content/videos/rl-video-episode-47.mp4\n",
            "\n"
          ]
        },
        {
          "output_type": "stream",
          "name": "stderr",
          "text": []
        },
        {
          "output_type": "stream",
          "name": "stdout",
          "text": [
            "Moviepy - Done !\n",
            "Moviepy - video ready /content/videos/rl-video-episode-47.mp4\n",
            "Moviepy - Building video /content/videos/rl-video-episode-48.mp4.\n",
            "Moviepy - Writing video /content/videos/rl-video-episode-48.mp4\n",
            "\n"
          ]
        },
        {
          "output_type": "stream",
          "name": "stderr",
          "text": []
        },
        {
          "output_type": "stream",
          "name": "stdout",
          "text": [
            "Moviepy - Done !\n",
            "Moviepy - video ready /content/videos/rl-video-episode-48.mp4\n",
            "Moviepy - Building video /content/videos/rl-video-episode-49.mp4.\n",
            "Moviepy - Writing video /content/videos/rl-video-episode-49.mp4\n",
            "\n"
          ]
        },
        {
          "output_type": "stream",
          "name": "stderr",
          "text": []
        },
        {
          "output_type": "stream",
          "name": "stdout",
          "text": [
            "Moviepy - Done !\n",
            "Moviepy - video ready /content/videos/rl-video-episode-49.mp4\n",
            "Moviepy - Building video /content/videos/rl-video-episode-50.mp4.\n",
            "Moviepy - Writing video /content/videos/rl-video-episode-50.mp4\n",
            "\n"
          ]
        },
        {
          "output_type": "stream",
          "name": "stderr",
          "text": []
        },
        {
          "output_type": "stream",
          "name": "stdout",
          "text": [
            "Moviepy - Done !\n",
            "Moviepy - video ready /content/videos/rl-video-episode-50.mp4\n",
            "Moviepy - Building video /content/videos/rl-video-episode-51.mp4.\n",
            "Moviepy - Writing video /content/videos/rl-video-episode-51.mp4\n",
            "\n"
          ]
        },
        {
          "output_type": "stream",
          "name": "stderr",
          "text": []
        },
        {
          "output_type": "stream",
          "name": "stdout",
          "text": [
            "Moviepy - Done !\n",
            "Moviepy - video ready /content/videos/rl-video-episode-51.mp4\n",
            "Moviepy - Building video /content/videos/rl-video-episode-52.mp4.\n",
            "Moviepy - Writing video /content/videos/rl-video-episode-52.mp4\n",
            "\n"
          ]
        },
        {
          "output_type": "stream",
          "name": "stderr",
          "text": []
        },
        {
          "output_type": "stream",
          "name": "stdout",
          "text": [
            "Moviepy - Done !\n",
            "Moviepy - video ready /content/videos/rl-video-episode-52.mp4\n",
            "Moviepy - Building video /content/videos/rl-video-episode-53.mp4.\n",
            "Moviepy - Writing video /content/videos/rl-video-episode-53.mp4\n",
            "\n"
          ]
        },
        {
          "output_type": "stream",
          "name": "stderr",
          "text": []
        },
        {
          "output_type": "stream",
          "name": "stdout",
          "text": [
            "Moviepy - Done !\n",
            "Moviepy - video ready /content/videos/rl-video-episode-53.mp4\n",
            "Moviepy - Building video /content/videos/rl-video-episode-54.mp4.\n",
            "Moviepy - Writing video /content/videos/rl-video-episode-54.mp4\n",
            "\n"
          ]
        },
        {
          "output_type": "stream",
          "name": "stderr",
          "text": []
        },
        {
          "output_type": "stream",
          "name": "stdout",
          "text": [
            "Moviepy - Done !\n",
            "Moviepy - video ready /content/videos/rl-video-episode-54.mp4\n",
            "Moviepy - Building video /content/videos/rl-video-episode-55.mp4.\n",
            "Moviepy - Writing video /content/videos/rl-video-episode-55.mp4\n",
            "\n"
          ]
        },
        {
          "output_type": "stream",
          "name": "stderr",
          "text": []
        },
        {
          "output_type": "stream",
          "name": "stdout",
          "text": [
            "Moviepy - Done !\n",
            "Moviepy - video ready /content/videos/rl-video-episode-55.mp4\n",
            "Moviepy - Building video /content/videos/rl-video-episode-56.mp4.\n",
            "Moviepy - Writing video /content/videos/rl-video-episode-56.mp4\n",
            "\n"
          ]
        },
        {
          "output_type": "stream",
          "name": "stderr",
          "text": []
        },
        {
          "output_type": "stream",
          "name": "stdout",
          "text": [
            "Moviepy - Done !\n",
            "Moviepy - video ready /content/videos/rl-video-episode-56.mp4\n",
            "Moviepy - Building video /content/videos/rl-video-episode-57.mp4.\n",
            "Moviepy - Writing video /content/videos/rl-video-episode-57.mp4\n",
            "\n"
          ]
        },
        {
          "output_type": "stream",
          "name": "stderr",
          "text": []
        },
        {
          "output_type": "stream",
          "name": "stdout",
          "text": [
            "Moviepy - Done !\n",
            "Moviepy - video ready /content/videos/rl-video-episode-57.mp4\n",
            "Moviepy - Building video /content/videos/rl-video-episode-58.mp4.\n",
            "Moviepy - Writing video /content/videos/rl-video-episode-58.mp4\n",
            "\n"
          ]
        },
        {
          "output_type": "stream",
          "name": "stderr",
          "text": []
        },
        {
          "output_type": "stream",
          "name": "stdout",
          "text": [
            "Moviepy - Done !\n",
            "Moviepy - video ready /content/videos/rl-video-episode-58.mp4\n",
            "Moviepy - Building video /content/videos/rl-video-episode-59.mp4.\n",
            "Moviepy - Writing video /content/videos/rl-video-episode-59.mp4\n",
            "\n"
          ]
        },
        {
          "output_type": "stream",
          "name": "stderr",
          "text": []
        },
        {
          "output_type": "stream",
          "name": "stdout",
          "text": [
            "Moviepy - Done !\n",
            "Moviepy - video ready /content/videos/rl-video-episode-59.mp4\n",
            "Moviepy - Building video /content/videos/rl-video-episode-60.mp4.\n",
            "Moviepy - Writing video /content/videos/rl-video-episode-60.mp4\n",
            "\n"
          ]
        },
        {
          "output_type": "stream",
          "name": "stderr",
          "text": []
        },
        {
          "output_type": "stream",
          "name": "stdout",
          "text": [
            "Moviepy - Done !\n",
            "Moviepy - video ready /content/videos/rl-video-episode-60.mp4\n",
            "Moviepy - Building video /content/videos/rl-video-episode-61.mp4.\n",
            "Moviepy - Writing video /content/videos/rl-video-episode-61.mp4\n",
            "\n"
          ]
        },
        {
          "output_type": "stream",
          "name": "stderr",
          "text": []
        },
        {
          "output_type": "stream",
          "name": "stdout",
          "text": [
            "Moviepy - Done !\n",
            "Moviepy - video ready /content/videos/rl-video-episode-61.mp4\n",
            "Moviepy - Building video /content/videos/rl-video-episode-62.mp4.\n",
            "Moviepy - Writing video /content/videos/rl-video-episode-62.mp4\n",
            "\n"
          ]
        },
        {
          "output_type": "stream",
          "name": "stderr",
          "text": []
        },
        {
          "output_type": "stream",
          "name": "stdout",
          "text": [
            "Moviepy - Done !\n",
            "Moviepy - video ready /content/videos/rl-video-episode-62.mp4\n",
            "Moviepy - Building video /content/videos/rl-video-episode-63.mp4.\n",
            "Moviepy - Writing video /content/videos/rl-video-episode-63.mp4\n",
            "\n"
          ]
        },
        {
          "output_type": "stream",
          "name": "stderr",
          "text": []
        },
        {
          "output_type": "stream",
          "name": "stdout",
          "text": [
            "Moviepy - Done !\n",
            "Moviepy - video ready /content/videos/rl-video-episode-63.mp4\n",
            "Moviepy - Building video /content/videos/rl-video-episode-64.mp4.\n",
            "Moviepy - Writing video /content/videos/rl-video-episode-64.mp4\n",
            "\n"
          ]
        },
        {
          "output_type": "stream",
          "name": "stderr",
          "text": []
        },
        {
          "output_type": "stream",
          "name": "stdout",
          "text": [
            "Moviepy - Done !\n",
            "Moviepy - video ready /content/videos/rl-video-episode-64.mp4\n",
            "Moviepy - Building video /content/videos/rl-video-episode-65.mp4.\n",
            "Moviepy - Writing video /content/videos/rl-video-episode-65.mp4\n",
            "\n"
          ]
        },
        {
          "output_type": "stream",
          "name": "stderr",
          "text": []
        },
        {
          "output_type": "stream",
          "name": "stdout",
          "text": [
            "Moviepy - Done !\n",
            "Moviepy - video ready /content/videos/rl-video-episode-65.mp4\n",
            "Moviepy - Building video /content/videos/rl-video-episode-66.mp4.\n",
            "Moviepy - Writing video /content/videos/rl-video-episode-66.mp4\n",
            "\n"
          ]
        },
        {
          "output_type": "stream",
          "name": "stderr",
          "text": []
        },
        {
          "output_type": "stream",
          "name": "stdout",
          "text": [
            "Moviepy - Done !\n",
            "Moviepy - video ready /content/videos/rl-video-episode-66.mp4\n",
            "Moviepy - Building video /content/videos/rl-video-episode-67.mp4.\n",
            "Moviepy - Writing video /content/videos/rl-video-episode-67.mp4\n",
            "\n"
          ]
        },
        {
          "output_type": "stream",
          "name": "stderr",
          "text": []
        },
        {
          "output_type": "stream",
          "name": "stdout",
          "text": [
            "Moviepy - Done !\n",
            "Moviepy - video ready /content/videos/rl-video-episode-67.mp4\n",
            "Moviepy - Building video /content/videos/rl-video-episode-68.mp4.\n",
            "Moviepy - Writing video /content/videos/rl-video-episode-68.mp4\n",
            "\n"
          ]
        },
        {
          "output_type": "stream",
          "name": "stderr",
          "text": []
        },
        {
          "output_type": "stream",
          "name": "stdout",
          "text": [
            "Moviepy - Done !\n",
            "Moviepy - video ready /content/videos/rl-video-episode-68.mp4\n",
            "Moviepy - Building video /content/videos/rl-video-episode-69.mp4.\n",
            "Moviepy - Writing video /content/videos/rl-video-episode-69.mp4\n",
            "\n"
          ]
        },
        {
          "output_type": "stream",
          "name": "stderr",
          "text": []
        },
        {
          "output_type": "stream",
          "name": "stdout",
          "text": [
            "Moviepy - Done !\n",
            "Moviepy - video ready /content/videos/rl-video-episode-69.mp4\n",
            "Moviepy - Building video /content/videos/rl-video-episode-70.mp4.\n",
            "Moviepy - Writing video /content/videos/rl-video-episode-70.mp4\n",
            "\n"
          ]
        },
        {
          "output_type": "stream",
          "name": "stderr",
          "text": []
        },
        {
          "output_type": "stream",
          "name": "stdout",
          "text": [
            "Moviepy - Done !\n",
            "Moviepy - video ready /content/videos/rl-video-episode-70.mp4\n",
            "Moviepy - Building video /content/videos/rl-video-episode-71.mp4.\n",
            "Moviepy - Writing video /content/videos/rl-video-episode-71.mp4\n",
            "\n"
          ]
        },
        {
          "output_type": "stream",
          "name": "stderr",
          "text": []
        },
        {
          "output_type": "stream",
          "name": "stdout",
          "text": [
            "Moviepy - Done !\n",
            "Moviepy - video ready /content/videos/rl-video-episode-71.mp4\n",
            "Moviepy - Building video /content/videos/rl-video-episode-72.mp4.\n",
            "Moviepy - Writing video /content/videos/rl-video-episode-72.mp4\n",
            "\n"
          ]
        },
        {
          "output_type": "stream",
          "name": "stderr",
          "text": []
        },
        {
          "output_type": "stream",
          "name": "stdout",
          "text": [
            "Moviepy - Done !\n",
            "Moviepy - video ready /content/videos/rl-video-episode-72.mp4\n",
            "Moviepy - Building video /content/videos/rl-video-episode-73.mp4.\n",
            "Moviepy - Writing video /content/videos/rl-video-episode-73.mp4\n",
            "\n"
          ]
        },
        {
          "output_type": "stream",
          "name": "stderr",
          "text": []
        },
        {
          "output_type": "stream",
          "name": "stdout",
          "text": [
            "Moviepy - Done !\n",
            "Moviepy - video ready /content/videos/rl-video-episode-73.mp4\n",
            "Moviepy - Building video /content/videos/rl-video-episode-74.mp4.\n",
            "Moviepy - Writing video /content/videos/rl-video-episode-74.mp4\n",
            "\n"
          ]
        },
        {
          "output_type": "stream",
          "name": "stderr",
          "text": []
        },
        {
          "output_type": "stream",
          "name": "stdout",
          "text": [
            "Moviepy - Done !\n",
            "Moviepy - video ready /content/videos/rl-video-episode-74.mp4\n",
            "Moviepy - Building video /content/videos/rl-video-episode-75.mp4.\n",
            "Moviepy - Writing video /content/videos/rl-video-episode-75.mp4\n",
            "\n"
          ]
        },
        {
          "output_type": "stream",
          "name": "stderr",
          "text": []
        },
        {
          "output_type": "stream",
          "name": "stdout",
          "text": [
            "Moviepy - Done !\n",
            "Moviepy - video ready /content/videos/rl-video-episode-75.mp4\n",
            "Moviepy - Building video /content/videos/rl-video-episode-76.mp4.\n",
            "Moviepy - Writing video /content/videos/rl-video-episode-76.mp4\n",
            "\n"
          ]
        },
        {
          "output_type": "stream",
          "name": "stderr",
          "text": []
        },
        {
          "output_type": "stream",
          "name": "stdout",
          "text": [
            "Moviepy - Done !\n",
            "Moviepy - video ready /content/videos/rl-video-episode-76.mp4\n",
            "Moviepy - Building video /content/videos/rl-video-episode-77.mp4.\n",
            "Moviepy - Writing video /content/videos/rl-video-episode-77.mp4\n",
            "\n"
          ]
        },
        {
          "output_type": "stream",
          "name": "stderr",
          "text": []
        },
        {
          "output_type": "stream",
          "name": "stdout",
          "text": [
            "Moviepy - Done !\n",
            "Moviepy - video ready /content/videos/rl-video-episode-77.mp4\n",
            "Moviepy - Building video /content/videos/rl-video-episode-78.mp4.\n",
            "Moviepy - Writing video /content/videos/rl-video-episode-78.mp4\n",
            "\n"
          ]
        },
        {
          "output_type": "stream",
          "name": "stderr",
          "text": []
        },
        {
          "output_type": "stream",
          "name": "stdout",
          "text": [
            "Moviepy - Done !\n",
            "Moviepy - video ready /content/videos/rl-video-episode-78.mp4\n",
            "Moviepy - Building video /content/videos/rl-video-episode-79.mp4.\n",
            "Moviepy - Writing video /content/videos/rl-video-episode-79.mp4\n",
            "\n"
          ]
        },
        {
          "output_type": "stream",
          "name": "stderr",
          "text": []
        },
        {
          "output_type": "stream",
          "name": "stdout",
          "text": [
            "Moviepy - Done !\n",
            "Moviepy - video ready /content/videos/rl-video-episode-79.mp4\n",
            "Moviepy - Building video /content/videos/rl-video-episode-80.mp4.\n",
            "Moviepy - Writing video /content/videos/rl-video-episode-80.mp4\n",
            "\n"
          ]
        },
        {
          "output_type": "stream",
          "name": "stderr",
          "text": []
        },
        {
          "output_type": "stream",
          "name": "stdout",
          "text": [
            "Moviepy - Done !\n",
            "Moviepy - video ready /content/videos/rl-video-episode-80.mp4\n",
            "Moviepy - Building video /content/videos/rl-video-episode-81.mp4.\n",
            "Moviepy - Writing video /content/videos/rl-video-episode-81.mp4\n",
            "\n"
          ]
        },
        {
          "output_type": "stream",
          "name": "stderr",
          "text": []
        },
        {
          "output_type": "stream",
          "name": "stdout",
          "text": [
            "Moviepy - Done !\n",
            "Moviepy - video ready /content/videos/rl-video-episode-81.mp4\n",
            "Moviepy - Building video /content/videos/rl-video-episode-82.mp4.\n",
            "Moviepy - Writing video /content/videos/rl-video-episode-82.mp4\n",
            "\n"
          ]
        },
        {
          "output_type": "stream",
          "name": "stderr",
          "text": []
        },
        {
          "output_type": "stream",
          "name": "stdout",
          "text": [
            "Moviepy - Done !\n",
            "Moviepy - video ready /content/videos/rl-video-episode-82.mp4\n",
            "Moviepy - Building video /content/videos/rl-video-episode-83.mp4.\n",
            "Moviepy - Writing video /content/videos/rl-video-episode-83.mp4\n",
            "\n"
          ]
        },
        {
          "output_type": "stream",
          "name": "stderr",
          "text": []
        },
        {
          "output_type": "stream",
          "name": "stdout",
          "text": [
            "Moviepy - Done !\n",
            "Moviepy - video ready /content/videos/rl-video-episode-83.mp4\n",
            "Moviepy - Building video /content/videos/rl-video-episode-84.mp4.\n",
            "Moviepy - Writing video /content/videos/rl-video-episode-84.mp4\n",
            "\n"
          ]
        },
        {
          "output_type": "stream",
          "name": "stderr",
          "text": []
        },
        {
          "output_type": "stream",
          "name": "stdout",
          "text": [
            "Moviepy - Done !\n",
            "Moviepy - video ready /content/videos/rl-video-episode-84.mp4\n",
            "Moviepy - Building video /content/videos/rl-video-episode-85.mp4.\n",
            "Moviepy - Writing video /content/videos/rl-video-episode-85.mp4\n",
            "\n"
          ]
        },
        {
          "output_type": "stream",
          "name": "stderr",
          "text": []
        },
        {
          "output_type": "stream",
          "name": "stdout",
          "text": [
            "Moviepy - Done !\n",
            "Moviepy - video ready /content/videos/rl-video-episode-85.mp4\n",
            "Moviepy - Building video /content/videos/rl-video-episode-86.mp4.\n",
            "Moviepy - Writing video /content/videos/rl-video-episode-86.mp4\n",
            "\n"
          ]
        },
        {
          "output_type": "stream",
          "name": "stderr",
          "text": []
        },
        {
          "output_type": "stream",
          "name": "stdout",
          "text": [
            "Moviepy - Done !\n",
            "Moviepy - video ready /content/videos/rl-video-episode-86.mp4\n",
            "Moviepy - Building video /content/videos/rl-video-episode-87.mp4.\n",
            "Moviepy - Writing video /content/videos/rl-video-episode-87.mp4\n",
            "\n"
          ]
        },
        {
          "output_type": "stream",
          "name": "stderr",
          "text": []
        },
        {
          "output_type": "stream",
          "name": "stdout",
          "text": [
            "Moviepy - Done !\n",
            "Moviepy - video ready /content/videos/rl-video-episode-87.mp4\n",
            "Moviepy - Building video /content/videos/rl-video-episode-88.mp4.\n",
            "Moviepy - Writing video /content/videos/rl-video-episode-88.mp4\n",
            "\n"
          ]
        },
        {
          "output_type": "stream",
          "name": "stderr",
          "text": []
        },
        {
          "output_type": "stream",
          "name": "stdout",
          "text": [
            "Moviepy - Done !\n",
            "Moviepy - video ready /content/videos/rl-video-episode-88.mp4\n",
            "Moviepy - Building video /content/videos/rl-video-episode-89.mp4.\n",
            "Moviepy - Writing video /content/videos/rl-video-episode-89.mp4\n",
            "\n"
          ]
        },
        {
          "output_type": "stream",
          "name": "stderr",
          "text": []
        },
        {
          "output_type": "stream",
          "name": "stdout",
          "text": [
            "Moviepy - Done !\n",
            "Moviepy - video ready /content/videos/rl-video-episode-89.mp4\n",
            "Moviepy - Building video /content/videos/rl-video-episode-90.mp4.\n",
            "Moviepy - Writing video /content/videos/rl-video-episode-90.mp4\n",
            "\n"
          ]
        },
        {
          "output_type": "stream",
          "name": "stderr",
          "text": []
        },
        {
          "output_type": "stream",
          "name": "stdout",
          "text": [
            "Moviepy - Done !\n",
            "Moviepy - video ready /content/videos/rl-video-episode-90.mp4\n",
            "Moviepy - Building video /content/videos/rl-video-episode-91.mp4.\n",
            "Moviepy - Writing video /content/videos/rl-video-episode-91.mp4\n",
            "\n"
          ]
        },
        {
          "output_type": "stream",
          "name": "stderr",
          "text": []
        },
        {
          "output_type": "stream",
          "name": "stdout",
          "text": [
            "Moviepy - Done !\n",
            "Moviepy - video ready /content/videos/rl-video-episode-91.mp4\n",
            "Moviepy - Building video /content/videos/rl-video-episode-92.mp4.\n",
            "Moviepy - Writing video /content/videos/rl-video-episode-92.mp4\n",
            "\n"
          ]
        },
        {
          "output_type": "stream",
          "name": "stderr",
          "text": []
        },
        {
          "output_type": "stream",
          "name": "stdout",
          "text": [
            "Moviepy - Done !\n",
            "Moviepy - video ready /content/videos/rl-video-episode-92.mp4\n",
            "Moviepy - Building video /content/videos/rl-video-episode-93.mp4.\n",
            "Moviepy - Writing video /content/videos/rl-video-episode-93.mp4\n",
            "\n"
          ]
        },
        {
          "output_type": "stream",
          "name": "stderr",
          "text": []
        },
        {
          "output_type": "stream",
          "name": "stdout",
          "text": [
            "Moviepy - Done !\n",
            "Moviepy - video ready /content/videos/rl-video-episode-93.mp4\n",
            "Moviepy - Building video /content/videos/rl-video-episode-94.mp4.\n",
            "Moviepy - Writing video /content/videos/rl-video-episode-94.mp4\n",
            "\n"
          ]
        },
        {
          "output_type": "stream",
          "name": "stderr",
          "text": []
        },
        {
          "output_type": "stream",
          "name": "stdout",
          "text": [
            "Moviepy - Done !\n",
            "Moviepy - video ready /content/videos/rl-video-episode-94.mp4\n",
            "Moviepy - Building video /content/videos/rl-video-episode-95.mp4.\n",
            "Moviepy - Writing video /content/videos/rl-video-episode-95.mp4\n",
            "\n"
          ]
        },
        {
          "output_type": "stream",
          "name": "stderr",
          "text": []
        },
        {
          "output_type": "stream",
          "name": "stdout",
          "text": [
            "Moviepy - Done !\n",
            "Moviepy - video ready /content/videos/rl-video-episode-95.mp4\n",
            "Moviepy - Building video /content/videos/rl-video-episode-96.mp4.\n",
            "Moviepy - Writing video /content/videos/rl-video-episode-96.mp4\n",
            "\n"
          ]
        },
        {
          "output_type": "stream",
          "name": "stderr",
          "text": []
        },
        {
          "output_type": "stream",
          "name": "stdout",
          "text": [
            "Moviepy - Done !\n",
            "Moviepy - video ready /content/videos/rl-video-episode-96.mp4\n",
            "Moviepy - Building video /content/videos/rl-video-episode-97.mp4.\n",
            "Moviepy - Writing video /content/videos/rl-video-episode-97.mp4\n",
            "\n"
          ]
        },
        {
          "output_type": "stream",
          "name": "stderr",
          "text": []
        },
        {
          "output_type": "stream",
          "name": "stdout",
          "text": [
            "Moviepy - Done !\n",
            "Moviepy - video ready /content/videos/rl-video-episode-97.mp4\n",
            "Moviepy - Building video /content/videos/rl-video-episode-98.mp4.\n",
            "Moviepy - Writing video /content/videos/rl-video-episode-98.mp4\n",
            "\n"
          ]
        },
        {
          "output_type": "stream",
          "name": "stderr",
          "text": []
        },
        {
          "output_type": "stream",
          "name": "stdout",
          "text": [
            "Moviepy - Done !\n",
            "Moviepy - video ready /content/videos/rl-video-episode-98.mp4\n",
            "Moviepy - Building video /content/videos/rl-video-episode-99.mp4.\n",
            "Moviepy - Writing video /content/videos/rl-video-episode-99.mp4\n",
            "\n"
          ]
        },
        {
          "output_type": "stream",
          "name": "stderr",
          "text": []
        },
        {
          "output_type": "stream",
          "name": "stdout",
          "text": [
            "Moviepy - Done !\n",
            "Moviepy - video ready /content/videos/rl-video-episode-99.mp4\n"
          ]
        }
      ],
      "source": [
        "# Record sessions\n",
        "\n",
        "from gymnasium.wrappers import RecordVideo\n",
        "\n",
        "with RecordVideo(\n",
        "    env=gym.make(\"CartPole-v0\", render_mode=\"rgb_array\"),\n",
        "    video_folder=\"./videos\",\n",
        "    episode_trigger=lambda episode_number: True,\n",
        ") as env_monitor:\n",
        "    sessions = [generate_session(env_monitor, agent) for _ in range(100)]\n"
      ]
    },
    {
      "cell_type": "code",
      "execution_count": 27,
      "metadata": {
        "id": "kLPXdME7G9zN",
        "outputId": "b53afbab-7ffb-478f-af32-83c2633873c3",
        "colab": {
          "base_uri": "https://localhost:8080/",
          "height": 521
        }
      },
      "outputs": [
        {
          "output_type": "execute_result",
          "data": {
            "text/plain": [
              "<IPython.core.display.HTML object>"
            ],
            "text/html": [
              "\n",
              "<video width=\"640\" height=\"480\" controls>\n",
              "  <source src=\"data:video/mp4;base64,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\" type=\"video/mp4\">\n",
              "</video>\n"
            ]
          },
          "metadata": {},
          "execution_count": 27
        }
      ],
      "source": [
        "# Show video. This may not work in some setups. If it doesn't\n",
        "# work for you, you can download the videos and view them locally.\n",
        "\n",
        "from pathlib import Path\n",
        "from base64 import b64encode\n",
        "from IPython.display import HTML\n",
        "\n",
        "video_paths = sorted([s for s in Path(\"videos\").iterdir() if s.suffix == \".mp4\"])\n",
        "video_path = video_paths[-1]  # You can also try other indices\n",
        "\n",
        "if \"google.colab\" in sys.modules:\n",
        "    # https://stackoverflow.com/a/57378660/1214547\n",
        "    with video_path.open(\"rb\") as fp:\n",
        "        mp4 = fp.read()\n",
        "    data_url = \"data:video/mp4;base64,\" + b64encode(mp4).decode()\n",
        "else:\n",
        "    data_url = str(video_path)\n",
        "\n",
        "HTML(\n",
        "    \"\"\"\n",
        "<video width=\"640\" height=\"480\" controls>\n",
        "  <source src=\"{}\" type=\"video/mp4\">\n",
        "</video>\n",
        "\"\"\".format(\n",
        "        data_url\n",
        "    )\n",
        ")\n"
      ]
    },
    {
      "cell_type": "markdown",
      "metadata": {
        "id": "6d_3oOQ1G9zN"
      },
      "source": [
        "# Homework part I\n",
        "\n",
        "### Tabular crossentropy method\n",
        "\n",
        "You may have noticed that the taxi problem quickly converges from -100 to a near-optimal score and then descends back into -50/-100. This is in part because the environment has some innate randomness. Namely, the starting points of passenger/driver change from episode to episode.\n",
        "\n",
        "### Tasks\n",
        "- __1.1__ (2 pts) Find out how the algorithm performance changes if you use a different `percentile` and/or `n_sessions`. Provide here some figures so we can see how the hyperparameters influence the performance.\n",
        "- __1.2__ (1 pts) Tune the algorithm to end up with positive average score.\n",
        "\n",
        "It's okay to modify the existing code.\n"
      ]
    },
    {
      "cell_type": "markdown",
      "metadata": {
        "id": "L88LySiVG9zN"
      },
      "source": [
        "```<Describe what you did here>```"
      ]
    },
    {
      "cell_type": "markdown",
      "metadata": {
        "id": "7LpAJc4rG9zN"
      },
      "source": [
        "# Homework part II\n",
        "\n",
        "### Deep crossentropy method\n",
        "\n",
        "By this moment, you should have got enough score on [CartPole-v0](https://gymnasium.farama.org/environments/classic_control/cart_pole/) to consider it solved (see the link). It's time to try something harder.\n",
        "\n",
        "* if you have any trouble with CartPole-v0 and feel stuck, feel free to ask us or your peers for help.\n",
        "\n",
        "### Tasks\n",
        "\n",
        "* __2.1__ (3 pts) Pick one of environments: `MountainCar-v0` or `LunarLander-v2`.\n",
        "  * For MountainCar, get average reward of __at least -150__\n",
        "  * For LunarLander, get average reward of __at least +50__\n",
        "\n",
        "See the tips section below, it's kinda important.\n",
        "__Note:__ If your agent is below the target score, you'll still get some of the points depending on the result, so don't be afraid to submit it.\n",
        "  \n",
        "  \n",
        "* __2.2__ (up to 6 pts) Devise a way to speed up training against the default version\n",
        "  * Obvious improvement: use [`joblib`](https://joblib.readthedocs.io/en/latest/). However, note that you will probably need to spawn a new environment in each of the workers instead of passing it via pickling. (2 pts)\n",
        "  * Try re-using samples from 3-5 last iterations when computing threshold and training. (2 pts)\n",
        "  * Obtain __-100__ at `MountainCar-v0` or __+200__ at `LunarLander-v2` (2 pts). Feel free to experiment with hyperparameters, architectures, schedules etc.\n",
        "  \n",
        "__Please list what you did in Anytask submission form__. This reduces probability that somebody misses something.\n",
        "  \n",
        "  \n",
        "### Tips\n",
        "* Gymnasium pages: [MountainCar](https://gymnasium.farama.org/environments/classic_control/mountain_car/), [LunarLander](https://gymnasium.farama.org/environments/box2d/lunar_lander/)\n",
        "* Sessions for MountainCar may last for 10k+ ticks. Make sure ```t_max``` param is at least 10k.\n",
        " * Also it may be a good idea to cut rewards via \">\" and not \">=\". If 90% of your sessions get reward of -10k and 10% are better, than if you use percentile 20% as threshold, R >= threshold __fails to cut off bad sessions__ while R > threshold works alright.\n",
        "* _issue with gym_: Some versions of gym limit game time by 200 ticks. This will prevent cem training in most cases. Make sure your agent is able to play for the specified __t_max__, and if it isn't, try `env = gym.make(\"MountainCar-v0\").env` or otherwise get rid of TimeLimit wrapper.\n",
        "* If you use old _swig_ lib for LunarLander-v2, you may get an error. See this [issue](https://github.com/openai/gym/issues/100) for solution.\n",
        "* If it doesn't train, it's a good idea to plot reward distribution and record sessions: they may give you some clue. If they don't, call course staff :)\n",
        "* 20-neuron network is probably not enough, feel free to experiment.\n",
        "\n",
        "You may find the following snippet useful:"
      ]
    },
    {
      "cell_type": "code",
      "execution_count": null,
      "metadata": {
        "id": "qcjz-nm_G9zN"
      },
      "outputs": [],
      "source": [
        "def visualize_mountain_car(env, agent):\n",
        "    # Compute policy for all possible x and v (with discretization)\n",
        "    xs = np.linspace(env.min_position, env.max_position, 100)\n",
        "    vs = np.linspace(-env.max_speed, env.max_speed, 100)\n",
        "\n",
        "    grid = np.dstack(np.meshgrid(xs, vs[::-1])).transpose(1, 0, 2)\n",
        "    grid_flat = grid.reshape(len(xs) * len(vs), 2)\n",
        "    probs = (\n",
        "        agent.predict_proba(grid_flat).reshape(len(xs), len(vs), 3).transpose(1, 0, 2)\n",
        "    )\n",
        "\n",
        "    # # The above code is equivalent to the following:\n",
        "    # probs = np.empty((len(vs), len(xs), 3))\n",
        "    # for i, v in enumerate(vs[::-1]):\n",
        "    #     for j, x in enumerate(xs):\n",
        "    #         probs[i, j, :] = agent.predict_proba([[x, v]])[0]\n",
        "\n",
        "    # Draw policy\n",
        "    f, ax = plt.subplots(figsize=(7, 7))\n",
        "    ax.imshow(\n",
        "        probs,\n",
        "        extent=(env.min_position, env.max_position, -env.max_speed, env.max_speed),\n",
        "        aspect=\"auto\",\n",
        "    )\n",
        "    ax.set_title(\"Learned policy: red=left, green=nothing, blue=right\")\n",
        "    ax.set_xlabel(\"position (x)\")\n",
        "    ax.set_ylabel(\"velocity (v)\")\n",
        "\n",
        "    # Sample a trajectory and draw it\n",
        "    states, actions, _ = generate_session(env, agent)\n",
        "    states = np.array(states)\n",
        "    ax.plot(states[:, 0], states[:, 1], color=\"white\")\n",
        "\n",
        "    # Draw every 3rd action from the trajectory\n",
        "    for (x, v), a in zip(states[::3], actions[::3]):\n",
        "        if a == 0:\n",
        "            plt.arrow(x, v, -0.1, 0, color=\"white\", head_length=0.02)\n",
        "        elif a == 2:\n",
        "            plt.arrow(x, v, 0.1, 0, color=\"white\", head_length=0.02)\n",
        "\n",
        "\n",
        "with gym.make(\"MountainCar-v0\", render_mode=\"rgb_arrary\").env as env:\n",
        "    visualize_mountain_car(env, agent)\n"
      ]
    },
    {
      "cell_type": "markdown",
      "metadata": {
        "id": "Dzk41lDPG9zO"
      },
      "source": [
        "### Bonus tasks\n",
        "\n",
        "* __2.3 bonus__ (2 pts) Try to find a network architecture and training params that solve __both__ environments above (_Points depend on implementation. If you attempted this task, please mention it in Anytask submission._)\n",
        "\n",
        "* __2.4 bonus__ (4 pts) Solve continuous action space task with `MLPRegressor` or similar.\n",
        "  * Since your agent only predicts the \"expected\" action, you will have to add noise to ensure exploration.\n",
        "  * Choose one of [MountainCarContinuous-v0](https://gymnasium.farama.org/environments/classic_control/mountain_car_continuous/) (90+ pts to solve), [LunarLanderContinuous-v2](https://gymnasium.farama.org/environments/box2d/lunar_lander/) (`env = gym.make(\"LunarLander-v2\", continuous=True)`)(200+ pts to solve)\n",
        "  * 4 points for solving. Slightly less for getting some results below solution threshold. Note that discrete and continuous environments may have slightly different rules, aside from action spaces."
      ]
    }
  ],
  "metadata": {
    "colab": {
      "provenance": []
    },
    "kernelspec": {
      "display_name": "Python 3",
      "language": "python",
      "name": "python3"
    },
    "language_info": {
      "codemirror_mode": {
        "name": "ipython",
        "version": 3
      },
      "file_extension": ".py",
      "mimetype": "text/x-python",
      "name": "python",
      "nbconvert_exporter": "python",
      "pygments_lexer": "ipython3",
      "version": "3.8.5"
    }
  },
  "nbformat": 4,
  "nbformat_minor": 0
}